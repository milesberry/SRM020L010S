{
  "cells": [
    {
      "cell_type": "markdown",
      "metadata": {
        "id": "aacR35mxM466"
      },
      "source": [
        "\n",
        "Quantitative Research Approaches  \n",
        "Lecture 1 - the notebook after the lecture\n",
        "\n",
        "# Getting started, descriptive statistics, Jupyter and Pandas\n",
        "\n",
        "Prof Miles Berry  \n",
        "23/1/24"
      ]
    },
    {
      "cell_type": "markdown",
      "metadata": {
        "id": "Y9XUoRt4M468"
      },
      "source": [
        "## Lectures  \n",
        "\n",
        "23/1 Face to face: getting started, descriptive statistics, Jupyter and Pandas  \n",
        "30/1 Independent study: descriptive statistics and visualising data  \n",
        "6/2 Face to face: constructing surveys with Likert scales; visualisations and comparisons  \n",
        "13/2 Independent study: surveys and student satisfaction  \n",
        "20/2 Face to face: linear models and school performance data  \n",
        "27/2 Independent study: deep diving into a GCSE subejct  \n",
        "5/3 Face to face: randomised control trials  \n",
        "12.3 Face to face: geographical data  \n",
        "19/3 Independent study: international comparisons  \n",
        "26/3 Independent study: preparing for the assignment  "
      ]
    },
    {
      "cell_type": "markdown",
      "metadata": {
        "id": "Lw6XItBhM468"
      },
      "source": [
        "## Assessment\n",
        "\n",
        "We agree a suitable dataset for the assignment. I support you in preparing this for analysis. You import the data to a suitable platform and provide descriptive statistics and some exploratory visualisations. You identify three interesting questions based on the dataset and offer further visualisations and analysis to answer these. You document this process through a narrative and by inclusion of source code or equivalent. You reflect critically on your approach and conclusions, by reference to the literature on research methods and similar studies.\n",
        "\n",
        "Due date 1/5/24 at 2:00 pm"
      ]
    },
    {
      "cell_type": "markdown",
      "metadata": {
        "id": "NrVt-sKoM468"
      },
      "source": [
        "## Is the truth out there?\n",
        "\n",
        "### Constructivism\n",
        "People construe the world differently  \n",
        "Discovering how people interpret the world  \n",
        "Theory as sets of meanings to make sense of the world  \n",
        "Search for meaning, relationships, consequences  \n",
        "Represent, analyse, compare  \n",
        "  \n",
        "### Positivism  \n",
        "The world exists and is knowable  \n",
        "Discovering laws of society  \n",
        "Theory as explanation of behaviour  \n",
        "Experimental validation of theory  \n",
        "Abstraction of reality  \n"
      ]
    },
    {
      "cell_type": "markdown",
      "metadata": {
        "id": "v9DWRO3hM468"
      },
      "source": [
        "## Qualitative research\n",
        "\n",
        ">The social and educational world is a messy place, full of contradictions, richness, complexity, connectedness, conjunctions and disjunctions. It is multilayered, and not easily susceptible to the atomization process inherent in much numerical research. It has to be studied in total rather than in fragments if a true understanding is to be reached.\n",
        "\n",
        "Cohen, Manion and Morrison, 2011, p. 219"
      ]
    },
    {
      "cell_type": "markdown",
      "metadata": {
        "id": "Enirp8xaM468"
      },
      "source": [
        "## Quantitative research"
      ]
    },
    {
      "cell_type": "markdown",
      "metadata": {
        "id": "mB_oVaIZM468"
      },
      "source": [
        "> Quantitative research is scientific investigation that includes both experiments and other systematic methods that emphasize control and quantified measures of performance. Measurement and statistics are central to quantitative research because they are the connections between empirical observation and mathematical expressions of relations... Quantitative researchers are concerned with the development and testing of hypotheses and the generation of models and theories that explain behaviour.\n",
        "\n",
        "[Hoy, W. K., Adams, C. M. and Adams, C. M. (2016)](https://roehamptonuniversity.on.worldcat.org/oclc/910073188)"
      ]
    },
    {
      "cell_type": "markdown",
      "metadata": {
        "id": "thITgqN8M468"
      },
      "source": [
        "## Evidence informed education\n",
        "\n",
        ">I think there is a huge prize waiting to be claimed by teachers. By collecting better evidence about what works best, and establishing a culture where this evidence is used as a matter of routine, we can improve outcomes for children, and increase professional independence.\n",
        "\n",
        "[Goldacre, 2013](https://assets.publishing.service.gov.uk/media/5a7a219140f0b66eab999f4f/Building_evidence_into_education.pdf)"
      ]
    },
    {
      "cell_type": "markdown",
      "metadata": {
        "id": "a7IWYSD_M468"
      },
      "source": [
        "## Types of data\n",
        "\n",
        "* Qualitative - text, images, video, audio, observation\n",
        "* Quantitative - numbers, or things that can be turned into numbers!\n",
        "  * Categories - nominal, ordinal\n",
        "  * Discrete - countable\n",
        "  * Continuous - measurable"
      ]
    },
    {
      "cell_type": "markdown",
      "metadata": {
        "id": "m4gka6LkM469"
      },
      "source": [
        "## Stevens's Scales of Measurement\n",
        "\n",
        "- nominal  \n",
        "- ordinal  \n",
        "- interval  \n",
        "- ratio\n",
        "\n",
        "[Stevens (1946)](https://psychology.okstate.edu/faculty/jgrice/psyc3214/Stevens_FourScales_1946.pdf)"
      ]
    },
    {
      "cell_type": "markdown",
      "metadata": {
        "id": "NbE4G2jCM469"
      },
      "source": [
        "![Stevens's Scales of Measurement](https://github.com/milesberry/SRM020L010S/blob/main/images/stevens0.png?raw=1)"
      ]
    },
    {
      "cell_type": "markdown",
      "metadata": {
        "id": "UeKZj4bDM469"
      },
      "source": [
        "![Stevens's Scales of Measurement](https://github.com/milesberry/SRM020L010S/blob/main/images/stevens1.png?raw=1)"
      ]
    },
    {
      "cell_type": "markdown",
      "metadata": {
        "id": "ybuwDOhTM469"
      },
      "source": [
        "## Data science (and qualitative methods)\n",
        "\n",
        "![Data cycle](https://github.com/milesberry/SRM020L010S/blob/main/images/workflow.png?raw=1)\n",
        "\n"
      ]
    },
    {
      "cell_type": "markdown",
      "metadata": {
        "id": "yt7biM_AM469"
      },
      "source": [
        "## Getting started with Python\n",
        "\n",
        "Python is a general purpose programming language, which is widely used in data science. It's free and open source, and runs on Windows, Mac and Linux. It's easy to learn, and has a large and active community of users and developers.\n",
        "\n",
        "We're using Jupyter Notebooks, which are a way of combining text, code and output in a single document. You can run these on your own computer, or use a cloud service such as [Google Colab](https://colab.research.google.com/), as we're using here.\n",
        "\n",
        "I start by loading some standard libraries and setting some options."
      ]
    },
    {
      "cell_type": "code",
      "execution_count": 1,
      "metadata": {
        "colab": {
          "base_uri": "https://localhost:8080/"
        },
        "id": "rG7SqROzcN5Y",
        "outputId": "6dc599a3-cadd-4b56-f717-2111e7594914"
      },
      "outputs": [
        {
          "name": "stdout",
          "output_type": "stream",
          "text": [
            "hello word\n"
          ]
        }
      ],
      "source": [
        "print('hello word')"
      ]
    },
    {
      "cell_type": "code",
      "execution_count": 2,
      "metadata": {
        "id": "B5FhNoscM469"
      },
      "outputs": [],
      "source": [
        "from random import randint # pseudorandom whole numbers\n",
        "from math import sqrt      # squareroots\n",
        "\n",
        "import matplotlib.pyplot as plt # basic graphics library\n",
        "\n",
        "plt.style.use('ggplot')    # ggplot style graphics\n",
        "plt.rcParams['figure.figsize'] = [10, 6] # make the graphs a bit bigger\n",
        "\n",
        "import warnings            # how should we deal with Python warnings?\n",
        "warnings.filterwarnings('ignore') # just ignore them. This is a good rule for life."
      ]
    },
    {
      "cell_type": "markdown",
      "metadata": {
        "id": "LIZUynrnM46-"
      },
      "source": [
        "Quantitative research methods, data science and statistics all rest on the mathematical foundation of probability. We'll make a start in Python by generating some random numbers - imagine rolling two, six sided dice 100 times, and recording the sum of the two dice each time."
      ]
    },
    {
      "cell_type": "code",
      "execution_count": 3,
      "metadata": {
        "colab": {
          "base_uri": "https://localhost:8080/"
        },
        "id": "B6Mt8MLiM46-",
        "outputId": "502abcfb-eaf1-49f6-f07d-1605567794d6"
      },
      "outputs": [
        {
          "name": "stdout",
          "output_type": "stream",
          "text": [
            "[5, 8, 3, 3, 12, 9, 5, 6, 4, 7, 7, 10, 6, 6, 12, 12, 6, 8, 8, 10, 10, 6, 8, 6, 6, 8, 8, 8, 4, 3, 5, 5, 11, 7, 12, 3, 4, 7, 12, 8, 5, 10, 7, 8, 12, 7, 2, 10, 7, 8, 7, 4, 7, 9, 5, 9, 5, 10, 8, 7, 6, 9, 7, 5, 7, 2, 11, 8, 8, 8, 4, 3, 4, 5, 7, 8, 9, 8, 4, 10, 7, 4, 4, 7, 7, 7, 11, 8, 10, 11, 9, 6, 8, 9, 6, 4, 12, 7, 6, 2]\n"
          ]
        }
      ],
      "source": [
        "example = []\n",
        "\n",
        "for i in range(100):\n",
        "    example = example + [randint(1,6) + randint(1,6)]\n",
        "\n",
        "print(example)\n"
      ]
    },
    {
      "cell_type": "markdown",
      "metadata": {
        "id": "xNJNTPlSM46-"
      },
      "source": [
        "We can create our own Python functions, e.g., one to work out the relative frequency of a score. You can think of this as the experimental probability of rolling a particular score."
      ]
    },
    {
      "cell_type": "code",
      "execution_count": 4,
      "metadata": {
        "colab": {
          "base_uri": "https://localhost:8080/"
        },
        "id": "t4qA0tYUM46-",
        "outputId": "d0f10999-c7b8-4948-ffa9-389d3656f5af"
      },
      "outputs": [
        {
          "data": {
            "text/plain": [
              "0.03"
            ]
          },
          "execution_count": 4,
          "metadata": {},
          "output_type": "execute_result"
        }
      ],
      "source": [
        "def relfreq(x,data):\n",
        "    return data.count(x)/len(data)\n",
        "\n",
        "relfreq(2,example)\n"
      ]
    },
    {
      "cell_type": "markdown",
      "metadata": {
        "id": "1rV3-vDeM46-"
      },
      "source": [
        "Can we find the relative frequency of each possible score?"
      ]
    },
    {
      "cell_type": "code",
      "execution_count": 5,
      "metadata": {
        "colab": {
          "base_uri": "https://localhost:8080/"
        },
        "id": "0eRXInSkeycF",
        "outputId": "fda3988e-3e03-495d-fd3c-d94acf80e30d"
      },
      "outputs": [
        {
          "data": {
            "text/plain": [
              "[0.03, 0.05, 0.1, 0.09, 0.11, 0.18, 0.18, 0.07, 0.08, 0.04, 0.07]"
            ]
          },
          "execution_count": 5,
          "metadata": {},
          "output_type": "execute_result"
        }
      ],
      "source": [
        "examplefreqs=[]\n",
        "for i in range(2, 13):\n",
        "    examplefreqs = examplefreqs + [relfreq(i,example)]\n",
        "\n",
        "examplefreqs"
      ]
    },
    {
      "cell_type": "markdown",
      "metadata": {
        "id": "Cd68CQP8M46-"
      },
      "source": [
        "What about seeing these on a bar chart?\n",
        "```python\n",
        "plt.bar(x, y)\n",
        "```"
      ]
    },
    {
      "cell_type": "code",
      "execution_count": 6,
      "metadata": {
        "colab": {
          "base_uri": "https://localhost:8080/",
          "height": 540
        },
        "id": "3RNxMK3Ofckm",
        "outputId": "55fe7449-6a36-48b3-bed8-3e745cb9ce74"
      },
      "outputs": [
        {
          "data": {
            "text/plain": [
              "<BarContainer object of 11 artists>"
            ]
          },
          "execution_count": 6,
          "metadata": {},
          "output_type": "execute_result"
        },
        {
          "data": {
            "image/png": "[encoded data removed]",
            "text/plain": [
              "<Figure size 1000x600 with 1 Axes>"
            ]
          },
          "metadata": {},
          "output_type": "display_data"
        }
      ],
      "source": [
        "plt.bar(range(2,13),examplefreqs)"
      ]
    },
    {
      "cell_type": "markdown",
      "metadata": {
        "id": "OzKY-4TWM46-"
      },
      "source": [
        "There are three key measures of what's typical - the average. They are the mean, median and mode. Let's write some code to work out the mean."
      ]
    },
    {
      "cell_type": "code",
      "execution_count": 7,
      "metadata": {
        "colab": {
          "base_uri": "https://localhost:8080/"
        },
        "id": "My6oQdi7M46-",
        "outputId": "e784fbfc-0e2d-4b71-8477-7fa149010a51"
      },
      "outputs": [
        {
          "data": {
            "text/plain": [
              "7.13"
            ]
          },
          "execution_count": 7,
          "metadata": {},
          "output_type": "execute_result"
        }
      ],
      "source": [
        "def mymean(data):\n",
        "    count = 0\n",
        "    total = 0\n",
        "    for item in data:\n",
        "        count = count + 1\n",
        "        total = total + item\n",
        "    return total / count\n",
        "\n",
        "mymean(example)"
      ]
    },
    {
      "cell_type": "markdown",
      "metadata": {
        "id": "ZxfThgM1M46-"
      },
      "source": [
        "The median and mode are a bit harder, but let me walk you through the code."
      ]
    },
    {
      "cell_type": "code",
      "execution_count": 8,
      "metadata": {
        "colab": {
          "base_uri": "https://localhost:8080/"
        },
        "id": "iwPel6i5M46-",
        "outputId": "8d543dd2-127e-4bf3-cff1-90be877ee7cf"
      },
      "outputs": [
        {
          "data": {
            "text/plain": [
              "[(2, 3),\n",
              " (3, 5),\n",
              " (4, 10),\n",
              " (5, 9),\n",
              " (6, 11),\n",
              " (7, 18),\n",
              " (8, 18),\n",
              " (9, 7),\n",
              " (10, 8),\n",
              " (11, 4),\n",
              " (12, 7)]"
            ]
          },
          "execution_count": 8,
          "metadata": {},
          "output_type": "execute_result"
        }
      ],
      "source": [
        "def freqtable(data):\n",
        "    freqtable = {}\n",
        "    for i in data:\n",
        "        if i in freqtable.keys():\n",
        "            freqtable[i] += 1\n",
        "        else:\n",
        "            freqtable[i] = 1\n",
        "    return(freqtable)\n",
        "\n",
        "freqtable(example)\n",
        "\n",
        "sorted(freqtable(example).items())"
      ]
    },
    {
      "cell_type": "code",
      "execution_count": 9,
      "metadata": {
        "colab": {
          "base_uri": "https://localhost:8080/",
          "height": 540
        },
        "id": "G94oksJ3M46-",
        "outputId": "a60a1eeb-395e-4943-e9fd-c35da4cb0032"
      },
      "outputs": [
        {
          "data": {
            "text/plain": [
              "<BarContainer object of 11 artists>"
            ]
          },
          "execution_count": 9,
          "metadata": {},
          "output_type": "execute_result"
        },
        {
          "data": {
            "image/png": "[encoded data removed]",
            "text/plain": [
              "<Figure size 1000x600 with 1 Axes>"
            ]
          },
          "metadata": {},
          "output_type": "display_data"
        }
      ],
      "source": [
        "plt.bar(freqtable(example).keys(),freqtable(example).values())"
      ]
    },
    {
      "cell_type": "code",
      "execution_count": 10,
      "metadata": {
        "colab": {
          "base_uri": "https://localhost:8080/"
        },
        "id": "5CMkcEV1M46-",
        "outputId": "7258e2af-386e-42c7-e7a4-6b91e7d8aef0"
      },
      "outputs": [
        {
          "data": {
            "text/plain": [
              "8"
            ]
          },
          "execution_count": 10,
          "metadata": {},
          "output_type": "execute_result"
        }
      ],
      "source": [
        "def mymode(data):\n",
        "    mode = 0\n",
        "    max = 0\n",
        "    freqs = freqtable(data)\n",
        "    for i in freqs.keys():\n",
        "        if freqs[i]>max:\n",
        "            max=freqs[i]\n",
        "            mode = i\n",
        "    return mode\n",
        "\n",
        "mymode(example)"
      ]
    },
    {
      "cell_type": "markdown",
      "metadata": {
        "id": "lsm-OaqjM46-"
      },
      "source": [
        "To work out the median, we need the data in order. Let's write some code to sort it."
      ]
    },
    {
      "cell_type": "code",
      "execution_count": 11,
      "metadata": {
        "id": "SZ6C2ymUjIGc"
      },
      "outputs": [],
      "source": [
        "def quicksort(data):\n",
        "    if data==[]:\n",
        "        return []\n",
        "    else:\n",
        "        return quicksort([i for i in data[1:] if i<data[0]]) + [data[0]] + quicksort([i for i in data[1:] if i>=data[0]])"
      ]
    },
    {
      "cell_type": "code",
      "execution_count": 12,
      "metadata": {
        "colab": {
          "base_uri": "https://localhost:8080/"
        },
        "id": "eNGeo8jdjmj0",
        "outputId": "b7310909-a0f8-4dc0-f98b-eeca3015c38a"
      },
      "outputs": [
        {
          "data": {
            "text/plain": [
              "[2,\n",
              " 2,\n",
              " 2,\n",
              " 3,\n",
              " 3,\n",
              " 3,\n",
              " 3,\n",
              " 3,\n",
              " 4,\n",
              " 4,\n",
              " 4,\n",
              " 4,\n",
              " 4,\n",
              " 4,\n",
              " 4,\n",
              " 4,\n",
              " 4,\n",
              " 4,\n",
              " 5,\n",
              " 5,\n",
              " 5,\n",
              " 5,\n",
              " 5,\n",
              " 5,\n",
              " 5,\n",
              " 5,\n",
              " 5,\n",
              " 6,\n",
              " 6,\n",
              " 6,\n",
              " 6,\n",
              " 6,\n",
              " 6,\n",
              " 6,\n",
              " 6,\n",
              " 6,\n",
              " 6,\n",
              " 6,\n",
              " 7,\n",
              " 7,\n",
              " 7,\n",
              " 7,\n",
              " 7,\n",
              " 7,\n",
              " 7,\n",
              " 7,\n",
              " 7,\n",
              " 7,\n",
              " 7,\n",
              " 7,\n",
              " 7,\n",
              " 7,\n",
              " 7,\n",
              " 7,\n",
              " 7,\n",
              " 7,\n",
              " 8,\n",
              " 8,\n",
              " 8,\n",
              " 8,\n",
              " 8,\n",
              " 8,\n",
              " 8,\n",
              " 8,\n",
              " 8,\n",
              " 8,\n",
              " 8,\n",
              " 8,\n",
              " 8,\n",
              " 8,\n",
              " 8,\n",
              " 8,\n",
              " 8,\n",
              " 8,\n",
              " 9,\n",
              " 9,\n",
              " 9,\n",
              " 9,\n",
              " 9,\n",
              " 9,\n",
              " 9,\n",
              " 10,\n",
              " 10,\n",
              " 10,\n",
              " 10,\n",
              " 10,\n",
              " 10,\n",
              " 10,\n",
              " 10,\n",
              " 11,\n",
              " 11,\n",
              " 11,\n",
              " 11,\n",
              " 12,\n",
              " 12,\n",
              " 12,\n",
              " 12,\n",
              " 12,\n",
              " 12,\n",
              " 12]"
            ]
          },
          "execution_count": 12,
          "metadata": {},
          "output_type": "execute_result"
        }
      ],
      "source": [
        "quicksort(example)"
      ]
    },
    {
      "cell_type": "code",
      "execution_count": 13,
      "metadata": {
        "colab": {
          "base_uri": "https://localhost:8080/"
        },
        "id": "haG7tZAtM46-",
        "outputId": "fd9e9051-f7c5-46fd-942d-fb91d1987126"
      },
      "outputs": [
        {
          "data": {
            "text/plain": [
              "7"
            ]
          },
          "execution_count": 13,
          "metadata": {},
          "output_type": "execute_result"
        }
      ],
      "source": [
        "def mymedian(data):\n",
        "    l = len(data)\n",
        "    if l % 2 == 1:\n",
        "        return quicksort(data)[l // 2]\n",
        "    else:\n",
        "        return quicksort(data)[(l+1)//2]\n",
        "\n",
        "mymedian(example)"
      ]
    },
    {
      "cell_type": "markdown",
      "metadata": {
        "id": "YgJ_AV4oM46_"
      },
      "source": [
        "The key measure of spread is the standard deviation. There are two methods to calculate this, see below."
      ]
    },
    {
      "cell_type": "code",
      "execution_count": 14,
      "metadata": {
        "colab": {
          "base_uri": "https://localhost:8080/"
        },
        "id": "PNNTFSPRM46_",
        "outputId": "5391d919-7181-4db2-9dc0-a3a0a790fdb7"
      },
      "outputs": [
        {
          "name": "stdout",
          "output_type": "stream",
          "text": [
            "method 1 2.5442287632994005\n",
            "method 2 2.5442287632994014\n"
          ]
        }
      ],
      "source": [
        "def mysd1(data):\n",
        "    '''sqrt of mean squared deviations'''\n",
        "    m = mymean(data)\n",
        "    squaredDeviations = map(lambda x: (x-m)**2, data)\n",
        "    return sqrt(mymean(squaredDeviations))\n",
        "\n",
        "def mysd2(data):\n",
        "    '''sqrt of (mean of squares - square of means)'''\n",
        "    return sqrt((mymean(map(lambda x: x**2, data)) - mymean(data)**2))\n",
        "\n",
        "print('method 1',mysd1(example))\n",
        "print('method 2',mysd2(example))"
      ]
    },
    {
      "cell_type": "markdown",
      "metadata": {
        "id": "HlZIOCxaM46_"
      },
      "source": [
        "## Pandas\n",
        "\n",
        "Fortunately, you'll never need to do any of the above. Because so many people use Python for data analysis, there are a number of libraries which make it easy to do all of this and more. The most popular of these is Pandas, which provides a data structure called a DataFrame, which is a bit like a spreadsheet, and a whole load of functions for manipulating these. We'll be using Pandas a lot in this course, so it's worth getting to know it a bit.\n",
        "\n",
        "Let's start again by loading some standard libraries."
      ]
    },
    {
      "cell_type": "markdown",
      "metadata": {
        "id": "RJzvBve5M46_"
      },
      "source": []
    },
    {
      "cell_type": "code",
      "execution_count": 15,
      "metadata": {
        "id": "kGq3oVFHM46_"
      },
      "outputs": [],
      "source": [
        "from matplotlib import pyplot as plt\n",
        "import seaborn as sns\n",
        "from random import randint\n",
        "import pandas as pd\n",
        "from scipy import stats\n",
        "\n",
        "plt.style.use('ggplot')"
      ]
    },
    {
      "cell_type": "markdown",
      "metadata": {
        "id": "WB33usbPM46_"
      },
      "source": [
        "We can convert our dice rolls to a Pandas data frame and revisit the statistics we've calculated earlier."
      ]
    },
    {
      "cell_type": "code",
      "execution_count": 16,
      "metadata": {
        "colab": {
          "base_uri": "https://localhost:8080/",
          "height": 424
        },
        "id": "bnexftqcmpoj",
        "outputId": "b00f222f-714f-47f1-a879-f3240257e169"
      },
      "outputs": [
        {
          "data": {
            "text/html": [
              "<div>\n",
              "<style scoped>\n",
              "    .dataframe tbody tr th:only-of-type {\n",
              "        vertical-align: middle;\n",
              "    }\n",
              "\n",
              "    .dataframe tbody tr th {\n",
              "        vertical-align: top;\n",
              "    }\n",
              "\n",
              "    .dataframe thead th {\n",
              "        text-align: right;\n",
              "    }\n",
              "</style>\n",
              "<table border=\"1\" class=\"dataframe\">\n",
              "  <thead>\n",
              "    <tr style=\"text-align: right;\">\n",
              "      <th></th>\n",
              "      <th>0</th>\n",
              "    </tr>\n",
              "  </thead>\n",
              "  <tbody>\n",
              "    <tr>\n",
              "      <th>0</th>\n",
              "      <td>5</td>\n",
              "    </tr>\n",
              "    <tr>\n",
              "      <th>1</th>\n",
              "      <td>8</td>\n",
              "    </tr>\n",
              "    <tr>\n",
              "      <th>2</th>\n",
              "      <td>3</td>\n",
              "    </tr>\n",
              "    <tr>\n",
              "      <th>3</th>\n",
              "      <td>3</td>\n",
              "    </tr>\n",
              "    <tr>\n",
              "      <th>4</th>\n",
              "      <td>12</td>\n",
              "    </tr>\n",
              "    <tr>\n",
              "      <th>...</th>\n",
              "      <td>...</td>\n",
              "    </tr>\n",
              "    <tr>\n",
              "      <th>95</th>\n",
              "      <td>4</td>\n",
              "    </tr>\n",
              "    <tr>\n",
              "      <th>96</th>\n",
              "      <td>12</td>\n",
              "    </tr>\n",
              "    <tr>\n",
              "      <th>97</th>\n",
              "      <td>7</td>\n",
              "    </tr>\n",
              "    <tr>\n",
              "      <th>98</th>\n",
              "      <td>6</td>\n",
              "    </tr>\n",
              "    <tr>\n",
              "      <th>99</th>\n",
              "      <td>2</td>\n",
              "    </tr>\n",
              "  </tbody>\n",
              "</table>\n",
              "<p>100 rows × 1 columns</p>\n",
              "</div>"
            ],
            "text/plain": [
              "     0\n",
              "0    5\n",
              "1    8\n",
              "2    3\n",
              "3    3\n",
              "4   12\n",
              "..  ..\n",
              "95   4\n",
              "96  12\n",
              "97   7\n",
              "98   6\n",
              "99   2\n",
              "\n",
              "[100 rows x 1 columns]"
            ]
          },
          "execution_count": 16,
          "metadata": {},
          "output_type": "execute_result"
        }
      ],
      "source": [
        "rolls = pd.DataFrame(example)\n",
        "rolls"
      ]
    },
    {
      "cell_type": "code",
      "execution_count": 17,
      "metadata": {
        "colab": {
          "base_uri": "https://localhost:8080/",
          "height": 426
        },
        "id": "5qEi6kLsm97x",
        "outputId": "f07447d4-1cfe-4e18-b2e8-12b8d071236e"
      },
      "outputs": [
        {
          "data": {
            "text/html": [
              "<div>\n",
              "<style scoped>\n",
              "    .dataframe tbody tr th:only-of-type {\n",
              "        vertical-align: middle;\n",
              "    }\n",
              "\n",
              "    .dataframe tbody tr th {\n",
              "        vertical-align: top;\n",
              "    }\n",
              "\n",
              "    .dataframe thead th {\n",
              "        text-align: right;\n",
              "    }\n",
              "</style>\n",
              "<table border=\"1\" class=\"dataframe\">\n",
              "  <thead>\n",
              "    <tr style=\"text-align: right;\">\n",
              "      <th></th>\n",
              "      <th>0</th>\n",
              "    </tr>\n",
              "  </thead>\n",
              "  <tbody>\n",
              "    <tr>\n",
              "      <th>4</th>\n",
              "      <td>12</td>\n",
              "    </tr>\n",
              "    <tr>\n",
              "      <th>14</th>\n",
              "      <td>12</td>\n",
              "    </tr>\n",
              "    <tr>\n",
              "      <th>15</th>\n",
              "      <td>12</td>\n",
              "    </tr>\n",
              "    <tr>\n",
              "      <th>32</th>\n",
              "      <td>11</td>\n",
              "    </tr>\n",
              "    <tr>\n",
              "      <th>34</th>\n",
              "      <td>12</td>\n",
              "    </tr>\n",
              "    <tr>\n",
              "      <th>38</th>\n",
              "      <td>12</td>\n",
              "    </tr>\n",
              "    <tr>\n",
              "      <th>44</th>\n",
              "      <td>12</td>\n",
              "    </tr>\n",
              "    <tr>\n",
              "      <th>66</th>\n",
              "      <td>11</td>\n",
              "    </tr>\n",
              "    <tr>\n",
              "      <th>86</th>\n",
              "      <td>11</td>\n",
              "    </tr>\n",
              "    <tr>\n",
              "      <th>89</th>\n",
              "      <td>11</td>\n",
              "    </tr>\n",
              "    <tr>\n",
              "      <th>96</th>\n",
              "      <td>12</td>\n",
              "    </tr>\n",
              "  </tbody>\n",
              "</table>\n",
              "</div>"
            ],
            "text/plain": [
              "     0\n",
              "4   12\n",
              "14  12\n",
              "15  12\n",
              "32  11\n",
              "34  12\n",
              "38  12\n",
              "44  12\n",
              "66  11\n",
              "86  11\n",
              "89  11\n",
              "96  12"
            ]
          },
          "execution_count": 17,
          "metadata": {},
          "output_type": "execute_result"
        }
      ],
      "source": [
        "rolls[rolls[0]>10]"
      ]
    },
    {
      "cell_type": "code",
      "execution_count": 18,
      "metadata": {
        "colab": {
          "base_uri": "https://localhost:8080/"
        },
        "id": "o2eeDdQLnwSb",
        "outputId": "bb5d953b-59da-4bb0-ef81-8c2453a57d45"
      },
      "outputs": [
        {
          "data": {
            "text/plain": [
              "0    7.13\n",
              "dtype: float64"
            ]
          },
          "execution_count": 18,
          "metadata": {},
          "output_type": "execute_result"
        }
      ],
      "source": [
        "rolls.mean()"
      ]
    },
    {
      "cell_type": "code",
      "execution_count": 19,
      "metadata": {
        "colab": {
          "base_uri": "https://localhost:8080/"
        },
        "id": "EwsgKN4Ln8Pt",
        "outputId": "2ce6d273-d469-4c7d-df1d-7b635adc5b32"
      },
      "outputs": [
        {
          "data": {
            "text/plain": [
              "0    7.0\n",
              "dtype: float64"
            ]
          },
          "execution_count": 19,
          "metadata": {},
          "output_type": "execute_result"
        }
      ],
      "source": [
        "rolls.median()\n"
      ]
    },
    {
      "cell_type": "code",
      "execution_count": 20,
      "metadata": {
        "colab": {
          "base_uri": "https://localhost:8080/",
          "height": 300
        },
        "id": "N9RvG3Cbn_8g",
        "outputId": "6632db0e-e740-4328-aeb2-9e5a128f035b"
      },
      "outputs": [
        {
          "data": {
            "text/html": [
              "<div>\n",
              "<style scoped>\n",
              "    .dataframe tbody tr th:only-of-type {\n",
              "        vertical-align: middle;\n",
              "    }\n",
              "\n",
              "    .dataframe tbody tr th {\n",
              "        vertical-align: top;\n",
              "    }\n",
              "\n",
              "    .dataframe thead th {\n",
              "        text-align: right;\n",
              "    }\n",
              "</style>\n",
              "<table border=\"1\" class=\"dataframe\">\n",
              "  <thead>\n",
              "    <tr style=\"text-align: right;\">\n",
              "      <th></th>\n",
              "      <th>0</th>\n",
              "    </tr>\n",
              "  </thead>\n",
              "  <tbody>\n",
              "    <tr>\n",
              "      <th>count</th>\n",
              "      <td>100.000000</td>\n",
              "    </tr>\n",
              "    <tr>\n",
              "      <th>mean</th>\n",
              "      <td>7.130000</td>\n",
              "    </tr>\n",
              "    <tr>\n",
              "      <th>std</th>\n",
              "      <td>2.557046</td>\n",
              "    </tr>\n",
              "    <tr>\n",
              "      <th>min</th>\n",
              "      <td>2.000000</td>\n",
              "    </tr>\n",
              "    <tr>\n",
              "      <th>25%</th>\n",
              "      <td>5.000000</td>\n",
              "    </tr>\n",
              "    <tr>\n",
              "      <th>50%</th>\n",
              "      <td>7.000000</td>\n",
              "    </tr>\n",
              "    <tr>\n",
              "      <th>75%</th>\n",
              "      <td>9.000000</td>\n",
              "    </tr>\n",
              "    <tr>\n",
              "      <th>max</th>\n",
              "      <td>12.000000</td>\n",
              "    </tr>\n",
              "  </tbody>\n",
              "</table>\n",
              "</div>"
            ],
            "text/plain": [
              "                0\n",
              "count  100.000000\n",
              "mean     7.130000\n",
              "std      2.557046\n",
              "min      2.000000\n",
              "25%      5.000000\n",
              "50%      7.000000\n",
              "75%      9.000000\n",
              "max     12.000000"
            ]
          },
          "execution_count": 20,
          "metadata": {},
          "output_type": "execute_result"
        }
      ],
      "source": [
        "rolls.describe()"
      ]
    },
    {
      "cell_type": "markdown",
      "metadata": {
        "id": "YfaucG2jM46_"
      },
      "source": [
        "And we can plot a histogram of the frequency of each score."
      ]
    },
    {
      "cell_type": "code",
      "execution_count": 21,
      "metadata": {
        "colab": {
          "base_uri": "https://localhost:8080/",
          "height": 563
        },
        "id": "xB9eTesroJem",
        "outputId": "fc89ee0c-ac56-452d-b298-5e55343c481c"
      },
      "outputs": [
        {
          "data": {
            "text/plain": [
              "<Axes: xlabel='0', ylabel='Count'>"
            ]
          },
          "execution_count": 21,
          "metadata": {},
          "output_type": "execute_result"
        },
        {
          "data": {
            "image/png": "[encoded data removed]",
            "text/plain": [
              "<Figure size 1000x600 with 1 Axes>"
            ]
          },
          "metadata": {},
          "output_type": "display_data"
        }
      ],
      "source": [
        "sns.histplot(rolls[0], binrange=(2,13),binwidth=1)"
      ]
    },
    {
      "cell_type": "markdown",
      "metadata": {
        "id": "M_R2u7F7M46_"
      },
      "source": [
        "### Working with a real dataset\n",
        "\n",
        "We can use the `read_excel` function to read in an Excel spreadsheet. We'll use pre test and post test scores from a class of 31 pupils. There are no missing values."
      ]
    },
    {
      "cell_type": "code",
      "execution_count": 23,
      "metadata": {
        "colab": {
          "base_uri": "https://localhost:8080/",
          "height": 1000
        },
        "id": "p9Rjw6MRpBtX",
        "outputId": "a999e0c2-b530-4ee7-be54-728d1c63a48c"
      },
      "outputs": [
        {
          "data": {
            "text/html": [
              "<div>\n",
              "<style scoped>\n",
              "    .dataframe tbody tr th:only-of-type {\n",
              "        vertical-align: middle;\n",
              "    }\n",
              "\n",
              "    .dataframe tbody tr th {\n",
              "        vertical-align: top;\n",
              "    }\n",
              "\n",
              "    .dataframe thead th {\n",
              "        text-align: right;\n",
              "    }\n",
              "</style>\n",
              "<table border=\"1\" class=\"dataframe\">\n",
              "  <thead>\n",
              "    <tr style=\"text-align: right;\">\n",
              "      <th></th>\n",
              "      <th>pretest</th>\n",
              "      <th>posttest</th>\n",
              "    </tr>\n",
              "  </thead>\n",
              "  <tbody>\n",
              "    <tr>\n",
              "      <th>Pupil01</th>\n",
              "      <td>53</td>\n",
              "      <td>92</td>\n",
              "    </tr>\n",
              "    <tr>\n",
              "      <th>Pupil02</th>\n",
              "      <td>65</td>\n",
              "      <td>81</td>\n",
              "    </tr>\n",
              "    <tr>\n",
              "      <th>Pupil03</th>\n",
              "      <td>34</td>\n",
              "      <td>56</td>\n",
              "    </tr>\n",
              "    <tr>\n",
              "      <th>Pupil04</th>\n",
              "      <td>63</td>\n",
              "      <td>94</td>\n",
              "    </tr>\n",
              "    <tr>\n",
              "      <th>Pupil05</th>\n",
              "      <td>80</td>\n",
              "      <td>75</td>\n",
              "    </tr>\n",
              "    <tr>\n",
              "      <th>Pupil06</th>\n",
              "      <td>81</td>\n",
              "      <td>68</td>\n",
              "    </tr>\n",
              "    <tr>\n",
              "      <th>Pupil07</th>\n",
              "      <td>68</td>\n",
              "      <td>100</td>\n",
              "    </tr>\n",
              "    <tr>\n",
              "      <th>Pupil08</th>\n",
              "      <td>75</td>\n",
              "      <td>84</td>\n",
              "    </tr>\n",
              "    <tr>\n",
              "      <th>Pupil09</th>\n",
              "      <td>61</td>\n",
              "      <td>64</td>\n",
              "    </tr>\n",
              "    <tr>\n",
              "      <th>Pupil10</th>\n",
              "      <td>43</td>\n",
              "      <td>57</td>\n",
              "    </tr>\n",
              "    <tr>\n",
              "      <th>Pupil11</th>\n",
              "      <td>81</td>\n",
              "      <td>90</td>\n",
              "    </tr>\n",
              "    <tr>\n",
              "      <th>Pupil12</th>\n",
              "      <td>43</td>\n",
              "      <td>47</td>\n",
              "    </tr>\n",
              "    <tr>\n",
              "      <th>Pupil13</th>\n",
              "      <td>70</td>\n",
              "      <td>72</td>\n",
              "    </tr>\n",
              "    <tr>\n",
              "      <th>Pupil14</th>\n",
              "      <td>64</td>\n",
              "      <td>74</td>\n",
              "    </tr>\n",
              "    <tr>\n",
              "      <th>Pupil15</th>\n",
              "      <td>56</td>\n",
              "      <td>84</td>\n",
              "    </tr>\n",
              "    <tr>\n",
              "      <th>Pupil16</th>\n",
              "      <td>70</td>\n",
              "      <td>78</td>\n",
              "    </tr>\n",
              "    <tr>\n",
              "      <th>Pupil17</th>\n",
              "      <td>50</td>\n",
              "      <td>71</td>\n",
              "    </tr>\n",
              "    <tr>\n",
              "      <th>Pupil18</th>\n",
              "      <td>81</td>\n",
              "      <td>74</td>\n",
              "    </tr>\n",
              "    <tr>\n",
              "      <th>Pupil19</th>\n",
              "      <td>73</td>\n",
              "      <td>54</td>\n",
              "    </tr>\n",
              "    <tr>\n",
              "      <th>Pupil20</th>\n",
              "      <td>81</td>\n",
              "      <td>93</td>\n",
              "    </tr>\n",
              "    <tr>\n",
              "      <th>Pupil21</th>\n",
              "      <td>58</td>\n",
              "      <td>58</td>\n",
              "    </tr>\n",
              "    <tr>\n",
              "      <th>Pupil22</th>\n",
              "      <td>41</td>\n",
              "      <td>60</td>\n",
              "    </tr>\n",
              "    <tr>\n",
              "      <th>Pupil23</th>\n",
              "      <td>47</td>\n",
              "      <td>73</td>\n",
              "    </tr>\n",
              "    <tr>\n",
              "      <th>Pupil24</th>\n",
              "      <td>70</td>\n",
              "      <td>66</td>\n",
              "    </tr>\n",
              "    <tr>\n",
              "      <th>Pupil25</th>\n",
              "      <td>76</td>\n",
              "      <td>95</td>\n",
              "    </tr>\n",
              "    <tr>\n",
              "      <th>Pupil26</th>\n",
              "      <td>63</td>\n",
              "      <td>85</td>\n",
              "    </tr>\n",
              "    <tr>\n",
              "      <th>Pupil27</th>\n",
              "      <td>76</td>\n",
              "      <td>71</td>\n",
              "    </tr>\n",
              "    <tr>\n",
              "      <th>Pupil28</th>\n",
              "      <td>54</td>\n",
              "      <td>84</td>\n",
              "    </tr>\n",
              "    <tr>\n",
              "      <th>Pupil29</th>\n",
              "      <td>82</td>\n",
              "      <td>76</td>\n",
              "    </tr>\n",
              "    <tr>\n",
              "      <th>Pupil30</th>\n",
              "      <td>44</td>\n",
              "      <td>73</td>\n",
              "    </tr>\n",
              "    <tr>\n",
              "      <th>Pupil31</th>\n",
              "      <td>48</td>\n",
              "      <td>57</td>\n",
              "    </tr>\n",
              "  </tbody>\n",
              "</table>\n",
              "</div>"
            ],
            "text/plain": [
              "         pretest  posttest\n",
              "Pupil01       53        92\n",
              "Pupil02       65        81\n",
              "Pupil03       34        56\n",
              "Pupil04       63        94\n",
              "Pupil05       80        75\n",
              "Pupil06       81        68\n",
              "Pupil07       68       100\n",
              "Pupil08       75        84\n",
              "Pupil09       61        64\n",
              "Pupil10       43        57\n",
              "Pupil11       81        90\n",
              "Pupil12       43        47\n",
              "Pupil13       70        72\n",
              "Pupil14       64        74\n",
              "Pupil15       56        84\n",
              "Pupil16       70        78\n",
              "Pupil17       50        71\n",
              "Pupil18       81        74\n",
              "Pupil19       73        54\n",
              "Pupil20       81        93\n",
              "Pupil21       58        58\n",
              "Pupil22       41        60\n",
              "Pupil23       47        73\n",
              "Pupil24       70        66\n",
              "Pupil25       76        95\n",
              "Pupil26       63        85\n",
              "Pupil27       76        71\n",
              "Pupil28       54        84\n",
              "Pupil29       82        76\n",
              "Pupil30       44        73\n",
              "Pupil31       48        57"
            ]
          },
          "execution_count": 23,
          "metadata": {},
          "output_type": "execute_result"
        }
      ],
      "source": [
        "df = pd.read_excel('data/prepostraw.xlsx', index_col=0)\n",
        "df"
      ]
    },
    {
      "cell_type": "markdown",
      "metadata": {
        "id": "yhzbX823M46_"
      },
      "source": [
        "Now let's calculate some descriptive statistics for these scores."
      ]
    },
    {
      "cell_type": "code",
      "execution_count": 24,
      "metadata": {
        "colab": {
          "base_uri": "https://localhost:8080/",
          "height": 300
        },
        "id": "PZa5_Xs8pap-",
        "outputId": "5709f0a7-a1ec-4424-8aac-e8baeaab73d4"
      },
      "outputs": [
        {
          "data": {
            "text/html": [
              "<div>\n",
              "<style scoped>\n",
              "    .dataframe tbody tr th:only-of-type {\n",
              "        vertical-align: middle;\n",
              "    }\n",
              "\n",
              "    .dataframe tbody tr th {\n",
              "        vertical-align: top;\n",
              "    }\n",
              "\n",
              "    .dataframe thead th {\n",
              "        text-align: right;\n",
              "    }\n",
              "</style>\n",
              "<table border=\"1\" class=\"dataframe\">\n",
              "  <thead>\n",
              "    <tr style=\"text-align: right;\">\n",
              "      <th></th>\n",
              "      <th>pretest</th>\n",
              "      <th>posttest</th>\n",
              "    </tr>\n",
              "  </thead>\n",
              "  <tbody>\n",
              "    <tr>\n",
              "      <th>count</th>\n",
              "      <td>31.000000</td>\n",
              "      <td>31.000000</td>\n",
              "    </tr>\n",
              "    <tr>\n",
              "      <th>mean</th>\n",
              "      <td>62.935484</td>\n",
              "      <td>74.387097</td>\n",
              "    </tr>\n",
              "    <tr>\n",
              "      <th>std</th>\n",
              "      <td>14.259349</td>\n",
              "      <td>13.725105</td>\n",
              "    </tr>\n",
              "    <tr>\n",
              "      <th>min</th>\n",
              "      <td>34.000000</td>\n",
              "      <td>47.000000</td>\n",
              "    </tr>\n",
              "    <tr>\n",
              "      <th>25%</th>\n",
              "      <td>51.500000</td>\n",
              "      <td>65.000000</td>\n",
              "    </tr>\n",
              "    <tr>\n",
              "      <th>50%</th>\n",
              "      <td>64.000000</td>\n",
              "      <td>74.000000</td>\n",
              "    </tr>\n",
              "    <tr>\n",
              "      <th>75%</th>\n",
              "      <td>75.500000</td>\n",
              "      <td>84.000000</td>\n",
              "    </tr>\n",
              "    <tr>\n",
              "      <th>max</th>\n",
              "      <td>82.000000</td>\n",
              "      <td>100.000000</td>\n",
              "    </tr>\n",
              "  </tbody>\n",
              "</table>\n",
              "</div>"
            ],
            "text/plain": [
              "         pretest    posttest\n",
              "count  31.000000   31.000000\n",
              "mean   62.935484   74.387097\n",
              "std    14.259349   13.725105\n",
              "min    34.000000   47.000000\n",
              "25%    51.500000   65.000000\n",
              "50%    64.000000   74.000000\n",
              "75%    75.500000   84.000000\n",
              "max    82.000000  100.000000"
            ]
          },
          "execution_count": 24,
          "metadata": {},
          "output_type": "execute_result"
        }
      ],
      "source": [
        "df.describe()"
      ]
    },
    {
      "cell_type": "markdown",
      "metadata": {
        "id": "vdJdkipKM46_"
      },
      "source": [
        "And let's draw some charts to visualise these."
      ]
    },
    {
      "cell_type": "code",
      "execution_count": 25,
      "metadata": {
        "colab": {
          "base_uri": "https://localhost:8080/",
          "height": 563
        },
        "id": "PNfBh9YSqHK-",
        "outputId": "710980ba-6247-42e9-c7e2-66afde9b6c6c"
      },
      "outputs": [
        {
          "data": {
            "text/plain": [
              "<Axes: xlabel='pretest', ylabel='Count'>"
            ]
          },
          "execution_count": 25,
          "metadata": {},
          "output_type": "execute_result"
        },
        {
          "data": {
            "image/png": "[encoded data removed]",
            "text/plain": [
              "<Figure size 1000x600 with 1 Axes>"
            ]
          },
          "metadata": {},
          "output_type": "display_data"
        }
      ],
      "source": [
        "sns.histplot(df['pretest'],binrange=(0,100),binwidth=10)"
      ]
    },
    {
      "cell_type": "code",
      "execution_count": 26,
      "metadata": {
        "colab": {
          "base_uri": "https://localhost:8080/",
          "height": 563
        },
        "id": "ZeL-5pMdquqS",
        "outputId": "3a0711a3-4a1e-4a1f-85c8-d2f653cc5241"
      },
      "outputs": [
        {
          "data": {
            "text/plain": [
              "<Axes: xlabel='posttest', ylabel='Count'>"
            ]
          },
          "execution_count": 26,
          "metadata": {},
          "output_type": "execute_result"
        },
        {
          "data": {
            "image/png": "[encoded data removed]",
            "text/plain": [
              "<Figure size 1000x600 with 1 Axes>"
            ]
          },
          "metadata": {},
          "output_type": "display_data"
        }
      ],
      "source": [
        "sns.histplot(df['posttest'],binrange=(0,100),binwidth=10)"
      ]
    },
    {
      "cell_type": "code",
      "execution_count": 27,
      "metadata": {
        "colab": {
          "base_uri": "https://localhost:8080/",
          "height": 523
        },
        "id": "y4RbPrc1q0tR",
        "outputId": "a500ce37-1448-4669-ccbc-eeb5906e7f05"
      },
      "outputs": [
        {
          "data": {
            "text/plain": [
              "<seaborn.axisgrid.FacetGrid at 0x150ccb740>"
            ]
          },
          "execution_count": 27,
          "metadata": {},
          "output_type": "execute_result"
        },
        {
          "data": {
            "image/png": "[encoded data removed]",
            "text/plain": [
              "<Figure size 606.625x500 with 1 Axes>"
            ]
          },
          "metadata": {},
          "output_type": "display_data"
        }
      ],
      "source": [
        "sns.displot(df, kind='kde' )"
      ]
    },
    {
      "cell_type": "code",
      "execution_count": 28,
      "metadata": {
        "colab": {
          "base_uri": "https://localhost:8080/",
          "height": 539
        },
        "id": "SCwbPiPztXPD",
        "outputId": "718ce218-50a2-4f39-f84c-965116e40d5a"
      },
      "outputs": [
        {
          "data": {
            "text/plain": [
              "<Axes: >"
            ]
          },
          "execution_count": 28,
          "metadata": {},
          "output_type": "execute_result"
        },
        {
          "data": {
            "image/png": "[encoded data removed]",
            "text/plain": [
              "<Figure size 1000x600 with 1 Axes>"
            ]
          },
          "metadata": {},
          "output_type": "display_data"
        }
      ],
      "source": [
        "sns.boxplot(df)"
      ]
    },
    {
      "cell_type": "code",
      "execution_count": 29,
      "metadata": {
        "colab": {
          "base_uri": "https://localhost:8080/",
          "height": 563
        },
        "id": "DDMX5hjLrfry",
        "outputId": "6a820851-0f77-43db-94a7-1741b8ef17ab"
      },
      "outputs": [
        {
          "data": {
            "text/plain": [
              "<Axes: xlabel='pretest', ylabel='posttest'>"
            ]
          },
          "execution_count": 29,
          "metadata": {},
          "output_type": "execute_result"
        },
        {
          "data": {
            "image/png": "[encoded data removed]",
            "text/plain": [
              "<Figure size 1000x600 with 1 Axes>"
            ]
          },
          "metadata": {},
          "output_type": "display_data"
        }
      ],
      "source": [
        "sns.scatterplot(x=df['pretest'], y=df['posttest'])"
      ]
    },
    {
      "cell_type": "markdown",
      "metadata": {
        "id": "9RBogyi4M47K"
      },
      "source": [
        "The scatterplot is easier to read if we show the diagonal line where the pre and post test scores are the same.\n",
        "\n",
        "```python\n",
        "g.axline(xy1=(0, 0), xy2=(100,100), color=\"b\", dashes=(2,2))\n",
        "```"
      ]
    },
    {
      "cell_type": "code",
      "execution_count": 30,
      "metadata": {
        "colab": {
          "base_uri": "https://localhost:8080/",
          "height": 563
        },
        "id": "C1WRn2aysNN0",
        "outputId": "998050f5-fd17-4b8d-9195-8bb4f0b15adb"
      },
      "outputs": [
        {
          "data": {
            "text/plain": [
              "<Axes: xlabel='pretest', ylabel='posttest'>"
            ]
          },
          "execution_count": 30,
          "metadata": {},
          "output_type": "execute_result"
        },
        {
          "data": {
            "image/png": "[encoded data removed]",
            "text/plain": [
              "<Figure size 1000x600 with 1 Axes>"
            ]
          },
          "metadata": {},
          "output_type": "display_data"
        }
      ],
      "source": [
        "g = sns.scatterplot(x=df['pretest'], y=df['posttest'])\n",
        "g.axline(xy1=(0, 0), xy2=(100,100), color=\"b\", dashes=(2,2))\n",
        "g\n"
      ]
    },
    {
      "cell_type": "markdown",
      "metadata": {
        "id": "UU7l9ak1M47K"
      },
      "source": [
        "So did pupils perform better after the intervention? How would you decide? What other information would you need? Might the difference in scores be due to chance?\n",
        "\n",
        "If we have normally distributed data, we can use a t-test to compare the means of two samples. First, we should check that the data appears to be normal. `stats.normaltest` checks this - if the p value is less that 0.05 we should be very careful.\n",
        "\n",
        "For the t-test itself, We can use the `ttest_rel` function.\n",
        "\n",
        "\n"
      ]
    },
    {
      "cell_type": "code",
      "execution_count": 31,
      "metadata": {
        "colab": {
          "base_uri": "https://localhost:8080/"
        },
        "id": "QXuoGYQ0thKJ",
        "outputId": "b1bc5e7b-9e79-401a-c4f2-0d4a03f58578"
      },
      "outputs": [
        {
          "data": {
            "text/plain": [
              "NormaltestResult(statistic=array([4.4752186 , 1.16750134]), pvalue=array([0.10671332, 0.55780231]))"
            ]
          },
          "execution_count": 31,
          "metadata": {},
          "output_type": "execute_result"
        }
      ],
      "source": [
        "stats.normaltest(df)"
      ]
    },
    {
      "cell_type": "code",
      "execution_count": 32,
      "metadata": {
        "colab": {
          "base_uri": "https://localhost:8080/"
        },
        "id": "clHhWPk-t5d8",
        "outputId": "9a09295d-fd78-4958-942b-347deadbcc52"
      },
      "outputs": [
        {
          "data": {
            "text/plain": [
              "TtestResult(statistic=-4.336411239530406, pvalue=0.00015039045896191093, df=30)"
            ]
          },
          "execution_count": 32,
          "metadata": {},
          "output_type": "execute_result"
        }
      ],
      "source": [
        "stats.ttest_rel(df['pretest'],df['posttest'])"
      ]
    },
    {
      "cell_type": "markdown",
      "metadata": {
        "id": "WrjUEly_tzFW"
      },
      "source": []
    },
    {
      "cell_type": "markdown",
      "metadata": {
        "id": "xEvSaM7JM47K"
      },
      "source": [
        "I had to search for the following. It's not obvious!"
      ]
    },
    {
      "cell_type": "code",
      "execution_count": 34,
      "metadata": {
        "colab": {
          "base_uri": "https://localhost:8080/",
          "height": 607
        },
        "id": "GTcZYAdjM47L",
        "outputId": "972e14aa-e346-49ec-9a5a-e4be3878262f"
      },
      "outputs": [
        {
          "data": {
            "image/png": "[encoded data removed]",
            "text/plain": [
              "<Figure size 1000x600 with 2 Axes>"
            ]
          },
          "metadata": {},
          "output_type": "display_data"
        }
      ],
      "source": [
        "cols = ['pretest', 'posttest']\n",
        "\n",
        "# create the figure and axes\n",
        "fig, axes = plt.subplots(1, 2, sharey=True)\n",
        "axes = axes.ravel()  # flattening the array makes indexing easier\n",
        "\n",
        "for col, ax in zip(cols, axes):\n",
        "    sns.histplot(data=df[col], kde=True, stat='density', ax=ax, binrange=(0,100),binwidth=10)\n",
        "\n",
        "fig.tight_layout()\n",
        "plt.show()"
      ]
    },
    {
      "cell_type": "code",
      "execution_count": null,
      "metadata": {
        "id": "8ZaPB0O8M47L"
      },
      "outputs": [],
      "source": []
    }
  ],
  "metadata": {
    "colab": {
      "provenance": []
    },
    "kernelspec": {
      "display_name": "Python 3",
      "language": "python",
      "name": "python3"
    },
    "language_info": {
      "codemirror_mode": {
        "name": "ipython",
        "version": 3
      },
      "file_extension": ".py",
      "mimetype": "text/x-python",
      "name": "python",
      "nbconvert_exporter": "python",
      "pygments_lexer": "ipython3",
      "version": "3.12.1"
    }
  },
  "nbformat": 4,
  "nbformat_minor": 0
}
